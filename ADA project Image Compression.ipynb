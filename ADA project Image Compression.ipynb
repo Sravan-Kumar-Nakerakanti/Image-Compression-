{
 "cells": [
  {
   "cell_type": "code",
   "execution_count": 1,
   "id": "62d19bea",
   "metadata": {},
   "outputs": [
    {
     "name": "stdout",
     "output_type": "stream",
     "text": [
      "Huffman Compression Program\n",
      "=================================================================\n",
      "Enter 1 if you want to input an colour image file, 2 for default gray scale case:1\n",
      "Enter the filename:Screenshot (79).png\n",
      "Enetered string is: [[[117 117 117 255]\n",
      "  [117 117 117 255]\n",
      "  [117 117 117 255]\n",
      "  ...\n",
      "  [230 230 230 255]\n",
      "  [231 231 231 255]\n",
      "  [232 232 232 255]]\n",
      "\n",
      " [[238 244 249 255]\n",
      "  [238 244 249 255]\n",
      "  [238 244 249 255]\n",
      "  ...\n",
      "  [230 230 230 255]\n",
      "  [230 230 230 255]\n",
      "  [231 231 231 255]]\n",
      "\n",
      " [[238 244 249 255]\n",
      "  [238 244 249 255]\n",
      "  [238 244 249 255]\n",
      "  ...\n",
      "  [229 229 229 255]\n",
      "  [230 230 230 255]\n",
      "  [231 231 231 255]]\n",
      "\n",
      " ...\n",
      "\n",
      " [[240 240 240 255]\n",
      "  [240 240 240 255]\n",
      "  [240 240 240 255]\n",
      "  ...\n",
      "  [213 213 213 255]\n",
      "  [214 214 214 255]\n",
      "  [215 215 215 255]]\n",
      "\n",
      " [[240 240 240 255]\n",
      "  [240 240 240 255]\n",
      "  [240 240 240 255]\n",
      "  ...\n",
      "  [213 213 213 255]\n",
      "  [214 214 214 255]\n",
      "  [215 215 215 255]]\n",
      "\n",
      " [[240 240 240 255]\n",
      "  [240 240 240 255]\n",
      "  [240 240 240 255]\n",
      "  ...\n",
      "  [213 213 213 255]\n",
      "  [214 214 214 255]\n",
      "  [215 215 215 255]]]\n"
     ]
    }
   ],
   "source": [
    "import re\n",
    "import numpy as np\n",
    "from PIL import Image\n",
    "print(\"Huffman Compression Program\")\n",
    "print(\"=================================================================\")\n",
    "h = int(input(\"Enter 1 if you want to input an colour image file, 2 for default gray scale case:\"))\n",
    "if h == 1:\n",
    "    file = input(\"Enter the filename:\")\n",
    "    my_string = np.asarray(Image.open(file),np.uint8)\n",
    "    shape = my_string.shape\n",
    "    a = my_string\n",
    "    print (\"Enetered string is:\",my_string)\n",
    "    my_string = str(my_string.tolist())\n",
    "elif h == 2:\n",
    "    array = np.arange(0, 737280, 1, np.uint8)\n",
    "    my_string = np.reshape(array, (1024, 720))\n",
    "    print (\"Enetered string is:\",my_string)\n",
    "    a = my_string\n",
    "    my_string = str(my_string.tolist())\n",
    "\n",
    "else:\n",
    "    print(\"You entered invalid input\")"
   ]
  },
  {
   "cell_type": "code",
   "execution_count": 2,
   "id": "9a674f58",
   "metadata": {},
   "outputs": [],
   "source": [
    "letters = []\n",
    "only_letters = []\n",
    "for letter in my_string:\n",
    "    if letter not in letters:\n",
    "        frequency = my_string.count(letter)             #frequency of each letter repetition\n",
    "        letters.append(frequency)\n",
    "        letters.append(letter)\n",
    "        only_letters.append(letter)\n",
    "\n",
    "nodes = []\n",
    "while len(letters) > 0:\n",
    "    nodes.append(letters[0:2])\n",
    "    letters = letters[2:]                               # sorting according to frequency\n",
    "nodes.sort()\n",
    "huffman_tree = []\n",
    "huffman_tree.append(nodes)   "
   ]
  },
  {
   "cell_type": "code",
   "execution_count": 3,
   "id": "4e0740cc",
   "metadata": {},
   "outputs": [],
   "source": [
    "def combine_nodes(nodes):\n",
    "    pos = 0\n",
    "    newnode = []\n",
    "    if len(nodes) > 1:\n",
    "        nodes.sort()\n",
    "        nodes[pos].append(\"1\")                       # assigning values 1 and 0\n",
    "        nodes[pos+1].append(\"0\")\n",
    "        combined_node1 = (nodes[pos] [0] + nodes[pos+1] [0])\n",
    "        combined_node2 = (nodes[pos] [1] + nodes[pos+1] [1])  # combining the nodes to generate pathways\n",
    "        newnode.append(combined_node1)\n",
    "        newnode.append(combined_node2)\n",
    "        newnodes=[]\n",
    "        newnodes.append(newnode)\n",
    "        newnodes = newnodes + nodes[2:]\n",
    "        nodes = newnodes\n",
    "        huffman_tree.append(nodes)\n",
    "        combine_nodes(nodes)\n",
    "    return huffman_tree  "
   ]
  },
  {
   "cell_type": "code",
   "execution_count": 4,
   "id": "d48efcbd",
   "metadata": {},
   "outputs": [
    {
     "name": "stdout",
     "output_type": "stream",
     "text": [
      "Huffman tree with merged pathways:\n",
      "Level 0 : [[18981467, ',[]1478963052 ']]\n",
      "Level 1 : [[7473145, ',[]14789630', '1'], [11508322, '52 ', '0']]\n",
      "Level 2 : [[4732653, '5', '1'], [6775669, '2 ', '0']]\n",
      "Level 3 : [[3567071, ',', '1'], [3906074, '[]14789630', '0'], [6775669, '2 ', '0']]\n",
      "Level 4 : [[3208598, '2', '1'], [3567071, ' ', '0'], [3906074, '[]14789630', '0']]\n",
      "Level 5 : [[1785574, '[]', '1'], [2120500, '14789630', '0'], [3567071, ' ', '0'], [4732653, '5', '1']]\n",
      "Level 6 : [[901996, '14', '1'], [1218504, '789630', '0'], [3208598, '2', '1'], [3567071, ',', '1']]\n",
      "Level 7 : [[892787, '[', '1'], [892787, ']', '0'], [1218504, '789630', '0'], [3567071, ' ', '0'], [4732653, '5', '1']]\n",
      "Level 8 : [[582180, '78963', '1'], [636324, '0', '0'], [892787, ']', '0'], [3208598, '2', '1'], [3567071, ',', '1']]\n",
      "Level 9 : [[387948, '1', '1'], [514048, '4', '0'], [636324, '0', '0'], [892787, ']', '0'], [3567071, ' ', '0'], [4732653, '5', '1']]\n",
      "Level 10 : [[252815, '7', '1'], [329365, '8963', '0'], [514048, '4', '0'], [892787, '[', '1'], [3208598, '2', '1'], [3567071, ',', '1']]\n",
      "Level 11 : [[124853, '89', '1'], [204512, '63', '0'], [387948, '1', '1'], [636324, '0', '0'], [892787, ']', '0'], [3567071, ' ', '0'], [4732653, '5', '1']]\n",
      "Level 12 : [[96206, '6', '1'], [108306, '3', '0'], [252815, '7', '1'], [514048, '4', '0'], [892787, '[', '1'], [3208598, '2', '1'], [3567071, ',', '1']]\n",
      "Level 13 : [[31431, '8', '1'], [93422, '9', '0'], [108306, '3', '0'], [387948, '1', '1'], [636324, '0', '0'], [892787, ']', '0'], [3567071, ' ', '0'], [4732653, '5', '1']]\n",
      "\n"
     ]
    }
   ],
   "source": [
    "newnodes = combine_nodes(nodes)\n",
    "\n",
    "huffman_tree.sort(reverse = True)\n",
    "print(\"Huffman tree with merged pathways:\")\n",
    "\n",
    "checklist = []\n",
    "for level in huffman_tree:\n",
    "    for node in level:\n",
    "        if node not in checklist:\n",
    "            checklist.append(node)\n",
    "        else:\n",
    "            level.remove(node)\n",
    "count = 0\n",
    "for level in huffman_tree:\n",
    "    print(\"Level\", count,\":\",level)             #print huffman tree\n",
    "    count+=1\n",
    "print()\n"
   ]
  },
  {
   "cell_type": "code",
   "execution_count": 5,
   "id": "e1323d66",
   "metadata": {},
   "outputs": [
    {
     "name": "stdout",
     "output_type": "stream",
     "text": [
      "[['[', '1011'], ['1', '10011'], ['7', '100011'], [',', '11'], [' ', '000'], ['2', '001'], ['5', '01'], [']', '1010'], ['9', '10001010'], ['3', '10001000'], ['0', '10000'], ['8', '10001011'], ['4', '10010'], ['6', '10001001']]\n",
      "Binary code generated:\n",
      "[ 1011\n",
      "1 10011\n",
      "7 100011\n",
      ", 11\n",
      "  000\n",
      "2 001\n",
      "5 01\n",
      "] 1010\n",
      "9 10001010\n",
      "3 10001000\n",
      "0 10000\n",
      "8 10001011\n",
      "4 10010\n",
      "6 10001001\n"
     ]
    }
   ],
   "source": [
    "letter_binary = []\n",
    "if len(only_letters) == 1:\n",
    "    lettercode = [only_letters[0], \"0\"]\n",
    "    letter_binary.append(letter_code*len(my_string))\n",
    "else:\n",
    "    for letter in only_letters:\n",
    "        code =\"\"\n",
    "        for node in checklist:\n",
    "            if len (node)>2 and letter in node[1]:           #genrating binary code\n",
    "                code = code + node[2]\n",
    "        lettercode =[letter,code]\n",
    "        letter_binary.append(lettercode)\n",
    "print(letter_binary)\n",
    "print(\"Binary code generated:\")\n",
    "for letter in letter_binary:\n",
    "    print(letter[0], letter[1])"
   ]
  },
  {
   "cell_type": "code",
   "execution_count": 7,
   "id": "18c87ef3",
   "metadata": {},
   "outputs": [
    {
     "name": "stdout",
     "output_type": "stream",
     "text": [
      "Your message as binary is:\n",
      "Your original file size was 132870269 bits. The compressed size is: 55912161\n",
      "This is a saving of  76958108 bits\n",
      "Compressed file generated as compressed.txt\n"
     ]
    },
    {
     "data": {
      "text/plain": [
       "<_io.TextIOWrapper name='compressed.txt' mode='w+' encoding='cp1252'>"
      ]
     },
     "execution_count": 7,
     "metadata": {},
     "output_type": "execute_result"
    }
   ],
   "source": [
    "bitstring =\"\"\n",
    "for character in my_string:\n",
    "    for item in letter_binary:\n",
    "        if character in item:\n",
    "            bitstring = bitstring + item[1]\n",
    "binary =\"0b\"+bitstring\n",
    "print(\"Your message as binary is:\")\n",
    "                                        # binary code generated\n",
    "\n",
    "uncompressed_file_size = len(my_string)*7\n",
    "compressed_file_size = len(binary)-2\n",
    "print(\"Your original file size was\", uncompressed_file_size,\"bits. The compressed size is:\",compressed_file_size)\n",
    "print(\"This is a saving of \",uncompressed_file_size-compressed_file_size,\"bits\")\n",
    "output = open(\"compressed.txt\",\"w+\")\n",
    "print(\"Compressed file generated as compressed.txt\")\n",
    "output = open(\"compressed.txt\",\"w+\")\n",
    "output"
   ]
  },
  {
   "cell_type": "code",
   "execution_count": 8,
   "id": "25d91183",
   "metadata": {},
   "outputs": [
    {
     "name": "stdout",
     "output_type": "stream",
     "text": [
      "Decoding.......\n"
     ]
    }
   ],
   "source": [
    "print(\"Decoding.......\")\n",
    "output.write(bitstring)\n",
    "\n",
    "bitstring = str(binary[2:])\n",
    "uncompressed_string =\"\"\n",
    "code =\"\"\n",
    "for digit in bitstring:\n",
    "    code = code+digit\n",
    "    pos=0                                        #iterating and decoding\n",
    "    for letter in letter_binary:\n",
    "        if code ==letter[1]:\n",
    "            uncompressed_string=uncompressed_string+letter_binary[pos] [0]\n",
    "            code=\"\"\n",
    "        pos+=1"
   ]
  },
  {
   "cell_type": "code",
   "execution_count": 9,
   "id": "820d7432",
   "metadata": {},
   "outputs": [
    {
     "name": "stdout",
     "output_type": "stream",
     "text": [
      "Your UNCOMPRESSED data is:\n",
      "[[[117 117 117 255]\n",
      "  [117 117 117 255]\n",
      "  [117 117 117 255]\n",
      "  ...\n",
      "  [230 230 230 255]\n",
      "  [231 231 231 255]\n",
      "  [232 232 232 255]]\n",
      "\n",
      " [[238 244 249 255]\n",
      "  [238 244 249 255]\n",
      "  [238 244 249 255]\n",
      "  ...\n",
      "  [230 230 230 255]\n",
      "  [230 230 230 255]\n",
      "  [231 231 231 255]]\n",
      "\n",
      " [[238 244 249 255]\n",
      "  [238 244 249 255]\n",
      "  [238 244 249 255]\n",
      "  ...\n",
      "  [229 229 229 255]\n",
      "  [230 230 230 255]\n",
      "  [231 231 231 255]]\n",
      "\n",
      " ...\n",
      "\n",
      " [[240 240 240 255]\n",
      "  [240 240 240 255]\n",
      "  [240 240 240 255]\n",
      "  ...\n",
      "  [213 213 213 255]\n",
      "  [214 214 214 255]\n",
      "  [215 215 215 255]]\n",
      "\n",
      " [[240 240 240 255]\n",
      "  [240 240 240 255]\n",
      "  [240 240 240 255]\n",
      "  ...\n",
      "  [213 213 213 255]\n",
      "  [214 214 214 255]\n",
      "  [215 215 215 255]]\n",
      "\n",
      " [[240 240 240 255]\n",
      "  [240 240 240 255]\n",
      "  [240 240 240 255]\n",
      "  ...\n",
      "  [213 213 213 255]\n",
      "  [214 214 214 255]\n",
      "  [215 215 215 255]]]\n",
      "Observe the shapes and input and output arrays are matching or not\n",
      "Input image dimensions: (1018, 876, 4)\n",
      "Output image dimensions: (1018, 876, 4)\n",
      "Success\n"
     ]
    }
   ],
   "source": [
    "print(\"Your UNCOMPRESSED data is:\")\n",
    "if h == 1:\n",
    "    temp = re.findall(r'\\d+', uncompressed_string)\n",
    "    res = list(map(int, temp))\n",
    "    res = np.array(res)\n",
    "    res = res.astype(np.uint8)\n",
    "    res = np.reshape(res, shape)\n",
    "    print(res)\n",
    "    print(\"Observe the shapes and input and output arrays are matching or not\")\n",
    "    print(\"Input image dimensions:\",shape)\n",
    "    print(\"Output image dimensions:\",res.shape)\n",
    "    data = Image.fromarray(res)\n",
    "    data.save('uncompressed.png')\n",
    "    if a.all() == res.all():\n",
    "        print(\"Success\")\n",
    "if h == 2:\n",
    "    temp = re.findall(r'\\d+', uncompressed_string)\n",
    "    res = list(map(int, temp))\n",
    "    print(res)\n",
    "    res = np.array(res)\n",
    "    res = res.astype(np.uint8)\n",
    "    res = np.reshape(res, (1024, 720))\n",
    "    print(res)\n",
    "    data = Image.fromarray(res)\n",
    "    data.save('uncompressed.png')\n",
    "    print(\"Success\")"
   ]
  },
  {
   "cell_type": "code",
   "execution_count": null,
   "id": "7ae6237e",
   "metadata": {},
   "outputs": [],
   "source": []
  }
 ],
 "metadata": {
  "kernelspec": {
   "display_name": "Python 3 (ipykernel)",
   "language": "python",
   "name": "python3"
  },
  "language_info": {
   "codemirror_mode": {
    "name": "ipython",
    "version": 3
   },
   "file_extension": ".py",
   "mimetype": "text/x-python",
   "name": "python",
   "nbconvert_exporter": "python",
   "pygments_lexer": "ipython3",
   "version": "3.9.13"
  }
 },
 "nbformat": 4,
 "nbformat_minor": 5
}
